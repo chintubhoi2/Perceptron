{
 "cells": [
  {
   "cell_type": "code",
   "execution_count": 1,
   "id": "6f1e92f7",
   "metadata": {},
   "outputs": [],
   "source": [
    "import os\n",
    "import pandas as pd\n",
    "import numpy as np\n",
    "import seaborn as sns\n",
    "import matplotlib.pyplot as plt\n",
    "import joblib\n",
    "from matplotlib.colors import ListedColormap\n",
    "\n",
    "plt.style.use(\"fivethirtyeight\")\n"
   ]
  },
  {
   "cell_type": "code",
   "execution_count": 2,
   "id": "72e0baca",
   "metadata": {},
   "outputs": [],
   "source": [
    "class Perceptron:\n",
    "    def __init__(self,eta:float = None,epochs:int=None):\n",
    "        self.weights = np.random.randn(3) * 1e-4 #small random weights\n",
    "        training = (eta is not None) and (epochs is not None)\n",
    "        if training:\n",
    "            print(f\"initial weight before training \\n{self.weights}\")\n",
    "        self.eta=eta\n",
    "        self.epochs=epochs\n",
    "    \n",
    "    def _z_outcome(self,inputs,weights):\n",
    "        return np.dot(inputs,weights)\n",
    "    \n",
    "    def activation_function(self,z):\n",
    "        return np.where(z > 0, 1, 0)\n",
    "    \n",
    "    def fit(self, X, y):\n",
    "        self.X=X\n",
    "        self.y=y\n",
    "        \n",
    "        X_with_bias = np.c_[self.X,-np.ones((len(self.X),1))]\n",
    "        print(f\"X_with_bias \\n{X_with_bias}\")\n",
    "        \n",
    "        for epoch in range(self.epochs):\n",
    "            print(\"__\"*10)\n",
    "            print(f\"for epoch >> {epoch + 1}\")\n",
    "            print(\"__\"*10)\n",
    "            \n",
    "            z = self._z_outcome(X_with_bias,self.weights)\n",
    "            y_hat = self.activation_function(z)\n",
    "            \n",
    "            print(f\"predicted value after forward pass: \\n{y_hat}\")\n",
    "            \n",
    "            self.error = self.y - y_hat\n",
    "            print(f\"error : \\n{self.error}\")\n",
    "            \n",
    "            self.weights = self.weights + self.eta * np.dot(X_with_bias.T,self.error)\n",
    "            print(f\"updated weights after epoch : {epoch}/{self.epochs}: \\n{self.weights}\")\n",
    "            print(\"##\"*10)\n",
    "    \n",
    "    def predict(self, X):\n",
    "        X_with_bias = np.c_[X,-np.ones((len(X),1))]\n",
    "        z = self._z_outcome(X_with_bias,self.weights)\n",
    "        return self.activation_function(z)\n",
    "        \n",
    "    \n",
    "    def total_loss(self):\n",
    "        total_loss = np.sum(self.error)\n",
    "        print(f\"\\ntotal loss: {total_loss}\\n\")\n",
    "        return total_loss\n",
    "    \n",
    "    def _create_directory(self, model_dir, filename):\n",
    "        os.mkdir(model_dir)\n",
    "        return os.path.join(model_dir, filename)\n",
    "    \n",
    "    def save(self, filename, model_dir=None):\n",
    "        if model_dir:\n",
    "            model_file_path = self._create_directory(model_dir, filename)\n",
    "            joblib.dump(self, model_file_path)\n",
    "        else:\n",
    "            model_file_path = self._create_directory(\"model\", filename)\n",
    "            joblib.dump(self, model_file_path)\n",
    "    \n",
    "    def load(self,filepath):\n",
    "        return joblib.load(filepath) \n",
    "        \n",
    "        \n",
    "        "
   ]
  },
  {
   "cell_type": "code",
   "execution_count": 3,
   "id": "2a98a623",
   "metadata": {},
   "outputs": [],
   "source": [
    "def prepare_data(df,target_col):\n",
    "    X = df.drop(target_col,axis=1)\n",
    "    \n",
    "    y = df[target_col]\n",
    "    \n",
    "    return X,y"
   ]
  },
  {
   "cell_type": "code",
   "execution_count": 4,
   "id": "0ceb4cc8",
   "metadata": {},
   "outputs": [
    {
     "data": {
      "text/html": [
       "<div>\n",
       "<style scoped>\n",
       "    .dataframe tbody tr th:only-of-type {\n",
       "        vertical-align: middle;\n",
       "    }\n",
       "\n",
       "    .dataframe tbody tr th {\n",
       "        vertical-align: top;\n",
       "    }\n",
       "\n",
       "    .dataframe thead th {\n",
       "        text-align: right;\n",
       "    }\n",
       "</style>\n",
       "<table border=\"1\" class=\"dataframe\">\n",
       "  <thead>\n",
       "    <tr style=\"text-align: right;\">\n",
       "      <th></th>\n",
       "      <th>x1</th>\n",
       "      <th>x2</th>\n",
       "      <th>y</th>\n",
       "    </tr>\n",
       "  </thead>\n",
       "  <tbody>\n",
       "    <tr>\n",
       "      <th>0</th>\n",
       "      <td>0</td>\n",
       "      <td>0</td>\n",
       "      <td>0</td>\n",
       "    </tr>\n",
       "    <tr>\n",
       "      <th>1</th>\n",
       "      <td>0</td>\n",
       "      <td>1</td>\n",
       "      <td>0</td>\n",
       "    </tr>\n",
       "    <tr>\n",
       "      <th>2</th>\n",
       "      <td>1</td>\n",
       "      <td>0</td>\n",
       "      <td>0</td>\n",
       "    </tr>\n",
       "    <tr>\n",
       "      <th>3</th>\n",
       "      <td>1</td>\n",
       "      <td>1</td>\n",
       "      <td>1</td>\n",
       "    </tr>\n",
       "  </tbody>\n",
       "</table>\n",
       "</div>"
      ],
      "text/plain": [
       "   x1  x2  y\n",
       "0   0   0  0\n",
       "1   0   1  0\n",
       "2   1   0  0\n",
       "3   1   1  1"
      ]
     },
     "execution_count": 4,
     "metadata": {},
     "output_type": "execute_result"
    }
   ],
   "source": [
    "AND = {\n",
    "    \"x1\":[0,0,1,1],\n",
    "    \"x2\":[0,1,0,1],\n",
    "    \"y\" :[0,0,0,1]\n",
    "}\n",
    "\n",
    "df_AND = pd.DataFrame(AND)\n",
    "df_AND"
   ]
  },
  {
   "cell_type": "code",
   "execution_count": 5,
   "id": "0b800185",
   "metadata": {},
   "outputs": [
    {
     "name": "stdout",
     "output_type": "stream",
     "text": [
      "initial weight before training \n",
      "[-5.49430662e-05 -7.70082229e-05 -1.00879668e-04]\n",
      "X_with_bias \n",
      "[[ 0.  0. -1.]\n",
      " [ 0.  1. -1.]\n",
      " [ 1.  0. -1.]\n",
      " [ 1.  1. -1.]]\n",
      "____________________\n",
      "for epoch >> 1\n",
      "____________________\n",
      "predicted value after forward pass: \n",
      "[1 1 1 0]\n",
      "error : \n",
      "0   -1\n",
      "1   -1\n",
      "2   -1\n",
      "3    1\n",
      "Name: y, dtype: int64\n",
      "updated weights after epoch : 0/10: \n",
      "[-5.49430662e-05 -7.70082229e-05  1.99899120e-01]\n",
      "####################\n",
      "____________________\n",
      "for epoch >> 2\n",
      "____________________\n",
      "predicted value after forward pass: \n",
      "[0 0 0 0]\n",
      "error : \n",
      "0    0\n",
      "1    0\n",
      "2    0\n",
      "3    1\n",
      "Name: y, dtype: int64\n",
      "updated weights after epoch : 1/10: \n",
      "[0.09994506 0.09992299 0.09989912]\n",
      "####################\n",
      "____________________\n",
      "for epoch >> 3\n",
      "____________________\n",
      "predicted value after forward pass: \n",
      "[0 1 1 1]\n",
      "error : \n",
      "0    0\n",
      "1   -1\n",
      "2   -1\n",
      "3    0\n",
      "Name: y, dtype: int64\n",
      "updated weights after epoch : 2/10: \n",
      "[-5.49430662e-05 -7.70082229e-05  2.99899120e-01]\n",
      "####################\n",
      "____________________\n",
      "for epoch >> 4\n",
      "____________________\n",
      "predicted value after forward pass: \n",
      "[0 0 0 0]\n",
      "error : \n",
      "0    0\n",
      "1    0\n",
      "2    0\n",
      "3    1\n",
      "Name: y, dtype: int64\n",
      "updated weights after epoch : 3/10: \n",
      "[0.09994506 0.09992299 0.19989912]\n",
      "####################\n",
      "____________________\n",
      "for epoch >> 5\n",
      "____________________\n",
      "predicted value after forward pass: \n",
      "[0 0 0 0]\n",
      "error : \n",
      "0    0\n",
      "1    0\n",
      "2    0\n",
      "3    1\n",
      "Name: y, dtype: int64\n",
      "updated weights after epoch : 4/10: \n",
      "[0.19994506 0.19992299 0.09989912]\n",
      "####################\n",
      "____________________\n",
      "for epoch >> 6\n",
      "____________________\n",
      "predicted value after forward pass: \n",
      "[0 1 1 1]\n",
      "error : \n",
      "0    0\n",
      "1   -1\n",
      "2   -1\n",
      "3    0\n",
      "Name: y, dtype: int64\n",
      "updated weights after epoch : 5/10: \n",
      "[0.09994506 0.09992299 0.29989912]\n",
      "####################\n",
      "____________________\n",
      "for epoch >> 7\n",
      "____________________\n",
      "predicted value after forward pass: \n",
      "[0 0 0 0]\n",
      "error : \n",
      "0    0\n",
      "1    0\n",
      "2    0\n",
      "3    1\n",
      "Name: y, dtype: int64\n",
      "updated weights after epoch : 6/10: \n",
      "[0.19994506 0.19992299 0.19989912]\n",
      "####################\n",
      "____________________\n",
      "for epoch >> 8\n",
      "____________________\n",
      "predicted value after forward pass: \n",
      "[0 1 1 1]\n",
      "error : \n",
      "0    0\n",
      "1   -1\n",
      "2   -1\n",
      "3    0\n",
      "Name: y, dtype: int64\n",
      "updated weights after epoch : 7/10: \n",
      "[0.09994506 0.09992299 0.39989912]\n",
      "####################\n",
      "____________________\n",
      "for epoch >> 9\n",
      "____________________\n",
      "predicted value after forward pass: \n",
      "[0 0 0 0]\n",
      "error : \n",
      "0    0\n",
      "1    0\n",
      "2    0\n",
      "3    1\n",
      "Name: y, dtype: int64\n",
      "updated weights after epoch : 8/10: \n",
      "[0.19994506 0.19992299 0.29989912]\n",
      "####################\n",
      "____________________\n",
      "for epoch >> 10\n",
      "____________________\n",
      "predicted value after forward pass: \n",
      "[0 0 0 1]\n",
      "error : \n",
      "0    0\n",
      "1    0\n",
      "2    0\n",
      "3    0\n",
      "Name: y, dtype: int64\n",
      "updated weights after epoch : 9/10: \n",
      "[0.19994506 0.19992299 0.29989912]\n",
      "####################\n",
      "\n",
      "total loss: 0\n",
      "\n"
     ]
    }
   ],
   "source": [
    "X, y = prepare_data(df_AND,\"y\")\n",
    "\n",
    "ETA = 0.1\n",
    "EPOCHS = 10\n",
    "\n",
    "model_and = Perceptron(eta=ETA,epochs=EPOCHS)\n",
    "model_and.fit(X,y)\n",
    "_ = model_and.total_loss()"
   ]
  },
  {
   "cell_type": "code",
   "execution_count": 6,
   "id": "9d974935",
   "metadata": {},
   "outputs": [],
   "source": [
    "model_and.save(\"and_model\")"
   ]
  },
  {
   "cell_type": "code",
   "execution_count": 7,
   "id": "c3ad0ca1",
   "metadata": {},
   "outputs": [
    {
     "name": "stdout",
     "output_type": "stream",
     "text": [
      "3.9.7\n"
     ]
    }
   ],
   "source": [
    "from platform import python_version\n",
    "\n",
    "print(python_version())"
   ]
  },
  {
   "cell_type": "code",
   "execution_count": 8,
   "id": "69ae93e5",
   "metadata": {},
   "outputs": [],
   "source": [
    "reload_and = Perceptron()"
   ]
  },
  {
   "cell_type": "code",
   "execution_count": 9,
   "id": "146b4110",
   "metadata": {},
   "outputs": [],
   "source": [
    "reload_and_model=reload_and.load(filepath = \"model/and_model\")"
   ]
  },
  {
   "cell_type": "code",
   "execution_count": 10,
   "id": "375b4690",
   "metadata": {},
   "outputs": [
    {
     "data": {
      "text/plain": [
       "array([1])"
      ]
     },
     "execution_count": 10,
     "metadata": {},
     "output_type": "execute_result"
    }
   ],
   "source": [
    "reload_and_model.predict(X=[[1,1]])"
   ]
  },
  {
   "cell_type": "code",
   "execution_count": 11,
   "id": "ace25079",
   "metadata": {},
   "outputs": [
    {
     "data": {
      "text/plain": [
       "array([0])"
      ]
     },
     "execution_count": 11,
     "metadata": {},
     "output_type": "execute_result"
    }
   ],
   "source": [
    "reload_and_model.predict(X=[[1,0]])"
   ]
  },
  {
   "cell_type": "code",
   "execution_count": 12,
   "id": "617b04c3",
   "metadata": {},
   "outputs": [
    {
     "data": {
      "text/plain": [
       "array([0])"
      ]
     },
     "execution_count": 12,
     "metadata": {},
     "output_type": "execute_result"
    }
   ],
   "source": [
    "reload_and_model.predict(X=[[0,0]])"
   ]
  },
  {
   "cell_type": "code",
   "execution_count": 13,
   "id": "d899d758",
   "metadata": {},
   "outputs": [
    {
     "data": {
      "text/plain": [
       "array([0])"
      ]
     },
     "execution_count": 13,
     "metadata": {},
     "output_type": "execute_result"
    }
   ],
   "source": [
    "reload_and_model.predict(X=[[0,1]])"
   ]
  },
  {
   "cell_type": "code",
   "execution_count": null,
   "id": "2b44790b",
   "metadata": {},
   "outputs": [],
   "source": []
  },
  {
   "cell_type": "code",
   "execution_count": null,
   "id": "6eea2cba",
   "metadata": {},
   "outputs": [],
   "source": []
  },
  {
   "cell_type": "code",
   "execution_count": null,
   "id": "99748fa8",
   "metadata": {},
   "outputs": [],
   "source": []
  },
  {
   "cell_type": "code",
   "execution_count": null,
   "id": "6db297c0",
   "metadata": {},
   "outputs": [],
   "source": []
  },
  {
   "cell_type": "code",
   "execution_count": null,
   "id": "c4eea6f0",
   "metadata": {},
   "outputs": [],
   "source": []
  },
  {
   "cell_type": "code",
   "execution_count": null,
   "id": "a192d2c4",
   "metadata": {},
   "outputs": [],
   "source": []
  },
  {
   "cell_type": "code",
   "execution_count": null,
   "id": "e4e90035",
   "metadata": {},
   "outputs": [],
   "source": []
  },
  {
   "cell_type": "code",
   "execution_count": null,
   "id": "f1704c7c",
   "metadata": {},
   "outputs": [],
   "source": []
  },
  {
   "cell_type": "code",
   "execution_count": null,
   "id": "f27bce40",
   "metadata": {},
   "outputs": [],
   "source": []
  },
  {
   "cell_type": "code",
   "execution_count": null,
   "id": "2dedf4ba",
   "metadata": {},
   "outputs": [],
   "source": []
  },
  {
   "cell_type": "code",
   "execution_count": 10,
   "id": "203c7091",
   "metadata": {},
   "outputs": [],
   "source": [
    "class hello:\n",
    "    def __init__(self, name):\n",
    "        self.name = name\n",
    "        \n",
    "    def set(self,title):\n",
    "        self.title = title\n",
    "        \n",
    "    def print_(self):\n",
    "        print(str(self.name + self.title))"
   ]
  },
  {
   "cell_type": "code",
   "execution_count": 11,
   "id": "c31c72a7",
   "metadata": {},
   "outputs": [],
   "source": [
    "bh=hello(\"chintu\")"
   ]
  },
  {
   "cell_type": "code",
   "execution_count": 12,
   "id": "dce43017",
   "metadata": {},
   "outputs": [
    {
     "data": {
      "text/plain": [
       "{'name': 'chintu'}"
      ]
     },
     "execution_count": 12,
     "metadata": {},
     "output_type": "execute_result"
    }
   ],
   "source": [
    "bh.__dict__"
   ]
  },
  {
   "cell_type": "code",
   "execution_count": 6,
   "id": "bbfe8274",
   "metadata": {},
   "outputs": [
    {
     "data": {
      "text/plain": [
       "mappingproxy({'__module__': '__main__',\n",
       "              '__init__': <function __main__.hello.__init__(self, name)>,\n",
       "              'set': <function __main__.hello.set(self, title)>,\n",
       "              'print_': <function __main__.hello.print_(self)>,\n",
       "              '__dict__': <attribute '__dict__' of 'hello' objects>,\n",
       "              '__weakref__': <attribute '__weakref__' of 'hello' objects>,\n",
       "              '__doc__': None})"
      ]
     },
     "execution_count": 6,
     "metadata": {},
     "output_type": "execute_result"
    }
   ],
   "source": [
    "hello.__dict__"
   ]
  },
  {
   "cell_type": "code",
   "execution_count": 7,
   "id": "e74d97f1",
   "metadata": {},
   "outputs": [],
   "source": [
    "bh.set(\"bhoi\")"
   ]
  },
  {
   "cell_type": "code",
   "execution_count": 8,
   "id": "404e1fb9",
   "metadata": {},
   "outputs": [
    {
     "data": {
      "text/plain": [
       "mappingproxy({'__module__': '__main__',\n",
       "              '__init__': <function __main__.hello.__init__(self, name)>,\n",
       "              'set': <function __main__.hello.set(self, title)>,\n",
       "              'print_': <function __main__.hello.print_(self)>,\n",
       "              '__dict__': <attribute '__dict__' of 'hello' objects>,\n",
       "              '__weakref__': <attribute '__weakref__' of 'hello' objects>,\n",
       "              '__doc__': None})"
      ]
     },
     "execution_count": 8,
     "metadata": {},
     "output_type": "execute_result"
    }
   ],
   "source": [
    "hello.__dict__"
   ]
  },
  {
   "cell_type": "code",
   "execution_count": 9,
   "id": "72ac06b6",
   "metadata": {},
   "outputs": [
    {
     "data": {
      "text/plain": [
       "{'name': 'chintu', 'title': 'bhoi'}"
      ]
     },
     "execution_count": 9,
     "metadata": {},
     "output_type": "execute_result"
    }
   ],
   "source": [
    "bh.__dict__"
   ]
  },
  {
   "cell_type": "code",
   "execution_count": null,
   "id": "33d214cd",
   "metadata": {},
   "outputs": [],
   "source": []
  }
 ],
 "metadata": {
  "kernelspec": {
   "display_name": "Python 3 (ipykernel)",
   "language": "python",
   "name": "python3"
  },
  "language_info": {
   "codemirror_mode": {
    "name": "ipython",
    "version": 3
   },
   "file_extension": ".py",
   "mimetype": "text/x-python",
   "name": "python",
   "nbconvert_exporter": "python",
   "pygments_lexer": "ipython3",
   "version": "3.9.7"
  }
 },
 "nbformat": 4,
 "nbformat_minor": 5
}
